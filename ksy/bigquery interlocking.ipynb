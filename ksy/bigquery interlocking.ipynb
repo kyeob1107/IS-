{
 "cells": [
  {
   "cell_type": "markdown",
   "metadata": {},
   "source": [
    "# 안쓰는 것"
   ]
  },
  {
   "cell_type": "markdown",
   "metadata": {},
   "source": [
    "## 서비스 계정 키 설정"
   ]
  },
  {
   "cell_type": "code",
   "execution_count": 1,
   "metadata": {},
   "outputs": [],
   "source": [
    "import glob\n",
    "\n",
    "from google.cloud import bigquery\n",
    "from google.oauth2 import service_account\n",
    "\n",
    "# 서비스 계정 키 JSON 파일 경로\n",
    "key_path = glob.glob(\"F:/스파르타강의/프로젝트 데이터/실전프로젝트/config/*.json\")[0]\n",
    "\n",
    "# Credentials 객체 생성\n",
    "credentials = service_account.Credentials.from_service_account_file(key_path)"
   ]
  },
  {
   "cell_type": "markdown",
   "metadata": {},
   "source": [
    "## 빅쿼리 클라이언트 정의"
   ]
  },
  {
   "cell_type": "code",
   "execution_count": 2,
   "metadata": {},
   "outputs": [],
   "source": [
    "# GCP 클라이언트 객체 생성\n",
    "client = bigquery.Client(credentials = credentials, \n",
    "                         project = credentials.project_id)"
   ]
  },
  {
   "cell_type": "markdown",
   "metadata": {},
   "source": [
    "# 데이터 불러오기"
   ]
  },
  {
   "cell_type": "code",
   "execution_count": 1,
   "metadata": {},
   "outputs": [
    {
     "name": "stderr",
     "output_type": "stream",
     "text": [
      "[*********************100%%**********************]  1 of 1 completed\n"
     ]
    },
    {
     "data": {
      "text/html": [
       "<div>\n",
       "<style scoped>\n",
       "    .dataframe tbody tr th:only-of-type {\n",
       "        vertical-align: middle;\n",
       "    }\n",
       "\n",
       "    .dataframe tbody tr th {\n",
       "        vertical-align: top;\n",
       "    }\n",
       "\n",
       "    .dataframe thead th {\n",
       "        text-align: right;\n",
       "    }\n",
       "</style>\n",
       "<table border=\"1\" class=\"dataframe\">\n",
       "  <thead>\n",
       "    <tr style=\"text-align: right;\">\n",
       "      <th></th>\n",
       "      <th>Open</th>\n",
       "      <th>High</th>\n",
       "      <th>Low</th>\n",
       "      <th>Close</th>\n",
       "      <th>Adj Close</th>\n",
       "      <th>Volume</th>\n",
       "      <th>ds</th>\n",
       "      <th>y</th>\n",
       "    </tr>\n",
       "    <tr>\n",
       "      <th>Date</th>\n",
       "      <th></th>\n",
       "      <th></th>\n",
       "      <th></th>\n",
       "      <th></th>\n",
       "      <th></th>\n",
       "      <th></th>\n",
       "      <th></th>\n",
       "      <th></th>\n",
       "    </tr>\n",
       "  </thead>\n",
       "  <tbody>\n",
       "    <tr>\n",
       "      <th>2021-01-04</th>\n",
       "      <td>133.520004</td>\n",
       "      <td>133.610001</td>\n",
       "      <td>126.760002</td>\n",
       "      <td>129.410004</td>\n",
       "      <td>127.002106</td>\n",
       "      <td>143301900</td>\n",
       "      <td>2021-01-04</td>\n",
       "      <td>129.410004</td>\n",
       "    </tr>\n",
       "    <tr>\n",
       "      <th>2021-01-05</th>\n",
       "      <td>128.889999</td>\n",
       "      <td>131.740005</td>\n",
       "      <td>128.429993</td>\n",
       "      <td>131.009995</td>\n",
       "      <td>128.572342</td>\n",
       "      <td>97664900</td>\n",
       "      <td>2021-01-05</td>\n",
       "      <td>131.009995</td>\n",
       "    </tr>\n",
       "    <tr>\n",
       "      <th>2021-01-06</th>\n",
       "      <td>127.720001</td>\n",
       "      <td>131.050003</td>\n",
       "      <td>126.379997</td>\n",
       "      <td>126.599998</td>\n",
       "      <td>124.244392</td>\n",
       "      <td>155088000</td>\n",
       "      <td>2021-01-06</td>\n",
       "      <td>126.599998</td>\n",
       "    </tr>\n",
       "  </tbody>\n",
       "</table>\n",
       "</div>"
      ],
      "text/plain": [
       "                  Open        High         Low       Close   Adj Close  \\\n",
       "Date                                                                     \n",
       "2021-01-04  133.520004  133.610001  126.760002  129.410004  127.002106   \n",
       "2021-01-05  128.889999  131.740005  128.429993  131.009995  128.572342   \n",
       "2021-01-06  127.720001  131.050003  126.379997  126.599998  124.244392   \n",
       "\n",
       "               Volume         ds           y  \n",
       "Date                                          \n",
       "2021-01-04  143301900 2021-01-04  129.410004  \n",
       "2021-01-05   97664900 2021-01-05  131.009995  \n",
       "2021-01-06  155088000 2021-01-06  126.599998  "
      ]
     },
     "execution_count": 1,
     "metadata": {},
     "output_type": "execute_result"
    }
   ],
   "source": [
    "import pandas as pd\n",
    "import yfinance as yf\n",
    "start = '2021-01-01'\n",
    "end = '2023-12-31'\n",
    "symbol = 'AAPL' # \"005930.KS\"\n",
    "df = yf.download(symbol, start, end)\n",
    "df['ds'] = pd.to_datetime(df.index, format = '%Y-%m-%d') # 굳이 넣어야하나 고민중\n",
    "df['y'] = df['Close'] # 마찬가지로 굳이 넣어야하나 고민중\n",
    "df.head(3)"
   ]
  },
  {
   "cell_type": "code",
   "execution_count": 2,
   "metadata": {},
   "outputs": [
    {
     "name": "stdout",
     "output_type": "stream",
     "text": [
      "<class 'pandas.core.frame.DataFrame'>\n",
      "DatetimeIndex: 753 entries, 2021-01-04 to 2023-12-29\n",
      "Data columns (total 8 columns):\n",
      " #   Column     Non-Null Count  Dtype         \n",
      "---  ------     --------------  -----         \n",
      " 0   Open       753 non-null    float64       \n",
      " 1   High       753 non-null    float64       \n",
      " 2   Low        753 non-null    float64       \n",
      " 3   Close      753 non-null    float64       \n",
      " 4   Adj Close  753 non-null    float64       \n",
      " 5   Volume     753 non-null    int64         \n",
      " 6   ds         753 non-null    datetime64[ns]\n",
      " 7   y          753 non-null    float64       \n",
      "dtypes: datetime64[ns](1), float64(6), int64(1)\n",
      "memory usage: 52.9 KB\n"
     ]
    }
   ],
   "source": [
    "df.info()"
   ]
  },
  {
   "cell_type": "code",
   "execution_count": null,
   "metadata": {},
   "outputs": [],
   "source": [
    "import numpy as np\n",
    "from prophet import Prophet\n",
    "import matplotlib.pyplot as plt\n",
    "plt.style.use('fivethirtyeight')"
   ]
  },
  {
   "cell_type": "code",
   "execution_count": null,
   "metadata": {},
   "outputs": [],
   "source": [
    "df_input = df[['ds','y']]\n",
    "display(df_input)\n",
    "ax = df_input['y'].plot(title = symbol, figsize =(12,4))\n",
    "ax.set_ylabel('Closs price (Won)')\n",
    "plt.show()"
   ]
  },
  {
   "cell_type": "code",
   "execution_count": null,
   "metadata": {},
   "outputs": [],
   "source": [
    "model_prophet = Prophet(changepoint_prior_scale = 0.15, daily_seasonality = True)\n",
    "model_prophet.fit(df_input)"
   ]
  },
  {
   "cell_type": "markdown",
   "metadata": {},
   "source": [
    "예측하기 위한 날짜 생성"
   ]
  },
  {
   "cell_type": "code",
   "execution_count": null,
   "metadata": {},
   "outputs": [],
   "source": [
    "fcast_time = 365 # 365일 예측\n",
    "freq_option = 'D'\n",
    "future = model_prophet.make_future_dataframe(periods = fcast_time, freq = freq_option)\n",
    "future.tail(10)"
   ]
  },
  {
   "cell_type": "code",
   "execution_count": null,
   "metadata": {},
   "outputs": [],
   "source": [
    "from workalendar.usa import UnitedStates\n",
    "# AAPL의 경우 미국 거래소에서 거래가 이루어지니 미국 공휴일 정보 가져와서 리스트로 만드는 과정\n",
    "# cal = workalendar.usa.UnitedStates()\n",
    "cal = UnitedStates()\n",
    "us_holidays = cal.holidays(2021)\n",
    "\n",
    "holiday_dates = [date for date, _ in us_holidays]"
   ]
  },
  {
   "cell_type": "code",
   "execution_count": null,
   "metadata": {},
   "outputs": [],
   "source": [
    "future = future[future['ds'].dt.dayofweek < 5] # 주말 제외 작업\n",
    "future = future[~future['ds'].isin(holiday_dates)] # 공휴일 제외 작업"
   ]
  },
  {
   "cell_type": "code",
   "execution_count": null,
   "metadata": {},
   "outputs": [],
   "source": [
    "df_forecast = model_prophet.predict(future)\n",
    "df_forecast[['ds','yhat','yhat_lower','yhat_upper']].tail()"
   ]
  },
  {
   "cell_type": "code",
   "execution_count": null,
   "metadata": {},
   "outputs": [],
   "source": [
    "model_prophet.plot(df_forecast, xlabel = 'Date',ylabel ='price($)');"
   ]
  },
  {
   "cell_type": "code",
   "execution_count": null,
   "metadata": {},
   "outputs": [],
   "source": [
    "model_prophet.plot_components(df_forecast);"
   ]
  },
  {
   "cell_type": "code",
   "execution_count": 1,
   "metadata": {},
   "outputs": [
    {
     "data": {
      "text/html": [
       "<div>\n",
       "<style scoped>\n",
       "    .dataframe tbody tr th:only-of-type {\n",
       "        vertical-align: middle;\n",
       "    }\n",
       "\n",
       "    .dataframe tbody tr th {\n",
       "        vertical-align: top;\n",
       "    }\n",
       "\n",
       "    .dataframe thead th {\n",
       "        text-align: right;\n",
       "    }\n",
       "</style>\n",
       "<table border=\"1\" class=\"dataframe\">\n",
       "  <thead>\n",
       "    <tr style=\"text-align: right;\">\n",
       "      <th></th>\n",
       "      <th>ds</th>\n",
       "      <th>trend</th>\n",
       "      <th>yhat_lower</th>\n",
       "      <th>yhat_upper</th>\n",
       "      <th>trend_lower</th>\n",
       "      <th>trend_upper</th>\n",
       "      <th>additive_terms</th>\n",
       "      <th>additive_terms_lower</th>\n",
       "      <th>additive_terms_upper</th>\n",
       "      <th>daily</th>\n",
       "      <th>...</th>\n",
       "      <th>weekly</th>\n",
       "      <th>weekly_lower</th>\n",
       "      <th>weekly_upper</th>\n",
       "      <th>yearly</th>\n",
       "      <th>yearly_lower</th>\n",
       "      <th>yearly_upper</th>\n",
       "      <th>multiplicative_terms</th>\n",
       "      <th>multiplicative_terms_lower</th>\n",
       "      <th>multiplicative_terms_upper</th>\n",
       "      <th>yhat</th>\n",
       "    </tr>\n",
       "  </thead>\n",
       "  <tbody>\n",
       "    <tr>\n",
       "      <th>0</th>\n",
       "      <td>2021-01-04</td>\n",
       "      <td>125.837293</td>\n",
       "      <td>127.996858</td>\n",
       "      <td>138.752594</td>\n",
       "      <td>125.837293</td>\n",
       "      <td>125.837293</td>\n",
       "      <td>7.130274</td>\n",
       "      <td>7.130274</td>\n",
       "      <td>7.130274</td>\n",
       "      <td>2.360639</td>\n",
       "      <td>...</td>\n",
       "      <td>0.160907</td>\n",
       "      <td>0.160907</td>\n",
       "      <td>0.160907</td>\n",
       "      <td>4.608728</td>\n",
       "      <td>4.608728</td>\n",
       "      <td>4.608728</td>\n",
       "      <td>0.0</td>\n",
       "      <td>0.0</td>\n",
       "      <td>0.0</td>\n",
       "      <td>132.967567</td>\n",
       "    </tr>\n",
       "    <tr>\n",
       "      <th>1</th>\n",
       "      <td>2021-01-05</td>\n",
       "      <td>125.788028</td>\n",
       "      <td>126.745361</td>\n",
       "      <td>138.011724</td>\n",
       "      <td>125.788028</td>\n",
       "      <td>125.788028</td>\n",
       "      <td>6.900233</td>\n",
       "      <td>6.900233</td>\n",
       "      <td>6.900233</td>\n",
       "      <td>2.360639</td>\n",
       "      <td>...</td>\n",
       "      <td>0.143280</td>\n",
       "      <td>0.143280</td>\n",
       "      <td>0.143280</td>\n",
       "      <td>4.396314</td>\n",
       "      <td>4.396314</td>\n",
       "      <td>4.396314</td>\n",
       "      <td>0.0</td>\n",
       "      <td>0.0</td>\n",
       "      <td>0.0</td>\n",
       "      <td>132.688260</td>\n",
       "    </tr>\n",
       "    <tr>\n",
       "      <th>2</th>\n",
       "      <td>2021-01-06</td>\n",
       "      <td>125.738762</td>\n",
       "      <td>127.256342</td>\n",
       "      <td>138.141318</td>\n",
       "      <td>125.738762</td>\n",
       "      <td>125.738762</td>\n",
       "      <td>6.693765</td>\n",
       "      <td>6.693765</td>\n",
       "      <td>6.693765</td>\n",
       "      <td>2.360639</td>\n",
       "      <td>...</td>\n",
       "      <td>0.150670</td>\n",
       "      <td>0.150670</td>\n",
       "      <td>0.150670</td>\n",
       "      <td>4.182456</td>\n",
       "      <td>4.182456</td>\n",
       "      <td>4.182456</td>\n",
       "      <td>0.0</td>\n",
       "      <td>0.0</td>\n",
       "      <td>0.0</td>\n",
       "      <td>132.432527</td>\n",
       "    </tr>\n",
       "  </tbody>\n",
       "</table>\n",
       "<p>3 rows × 22 columns</p>\n",
       "</div>"
      ],
      "text/plain": [
       "           ds       trend  yhat_lower  yhat_upper  trend_lower  trend_upper  \\\n",
       "0  2021-01-04  125.837293  127.996858  138.752594   125.837293   125.837293   \n",
       "1  2021-01-05  125.788028  126.745361  138.011724   125.788028   125.788028   \n",
       "2  2021-01-06  125.738762  127.256342  138.141318   125.738762   125.738762   \n",
       "\n",
       "   additive_terms  additive_terms_lower  additive_terms_upper     daily  ...  \\\n",
       "0        7.130274              7.130274              7.130274  2.360639  ...   \n",
       "1        6.900233              6.900233              6.900233  2.360639  ...   \n",
       "2        6.693765              6.693765              6.693765  2.360639  ...   \n",
       "\n",
       "     weekly  weekly_lower  weekly_upper    yearly  yearly_lower  yearly_upper  \\\n",
       "0  0.160907      0.160907      0.160907  4.608728      4.608728      4.608728   \n",
       "1  0.143280      0.143280      0.143280  4.396314      4.396314      4.396314   \n",
       "2  0.150670      0.150670      0.150670  4.182456      4.182456      4.182456   \n",
       "\n",
       "   multiplicative_terms  multiplicative_terms_lower  \\\n",
       "0                   0.0                         0.0   \n",
       "1                   0.0                         0.0   \n",
       "2                   0.0                         0.0   \n",
       "\n",
       "   multiplicative_terms_upper        yhat  \n",
       "0                         0.0  132.967567  \n",
       "1                         0.0  132.688260  \n",
       "2                         0.0  132.432527  \n",
       "\n",
       "[3 rows x 22 columns]"
      ]
     },
     "execution_count": 1,
     "metadata": {},
     "output_type": "execute_result"
    }
   ],
   "source": [
    "# import pandas as pd\n",
    "# df = pd.read_csv('predict_aapl_2021-01-01to2023-12-31_to365days.csv')\n",
    "# df.head(3)"
   ]
  },
  {
   "cell_type": "code",
   "execution_count": 6,
   "metadata": {},
   "outputs": [
    {
     "name": "stdout",
     "output_type": "stream",
     "text": [
      "<class 'pandas.core.frame.DataFrame'>\n",
      "RangeIndex: 1010 entries, 0 to 1009\n",
      "Data columns (total 22 columns):\n",
      " #   Column                      Non-Null Count  Dtype  \n",
      "---  ------                      --------------  -----  \n",
      " 0   ds                          1010 non-null   object \n",
      " 1   trend                       1010 non-null   float64\n",
      " 2   yhat_lower                  1010 non-null   float64\n",
      " 3   yhat_upper                  1010 non-null   float64\n",
      " 4   trend_lower                 1010 non-null   float64\n",
      " 5   trend_upper                 1010 non-null   float64\n",
      " 6   additive_terms              1010 non-null   float64\n",
      " 7   additive_terms_lower        1010 non-null   float64\n",
      " 8   additive_terms_upper        1010 non-null   float64\n",
      " 9   daily                       1010 non-null   float64\n",
      " 10  daily_lower                 1010 non-null   float64\n",
      " 11  daily_upper                 1010 non-null   float64\n",
      " 12  weekly                      1010 non-null   float64\n",
      " 13  weekly_lower                1010 non-null   float64\n",
      " 14  weekly_upper                1010 non-null   float64\n",
      " 15  yearly                      1010 non-null   float64\n",
      " 16  yearly_lower                1010 non-null   float64\n",
      " 17  yearly_upper                1010 non-null   float64\n",
      " 18  multiplicative_terms        1010 non-null   float64\n",
      " 19  multiplicative_terms_lower  1010 non-null   float64\n",
      " 20  multiplicative_terms_upper  1010 non-null   float64\n",
      " 21  yhat                        1010 non-null   float64\n",
      "dtypes: float64(21), object(1)\n",
      "memory usage: 173.7+ KB\n"
     ]
    }
   ],
   "source": [
    "# df.info() # 데이터 타입 확인하고 변경해주기"
   ]
  },
  {
   "cell_type": "markdown",
   "metadata": {},
   "source": [
    "밑에 실행하기 전에 df의 형식 확인하고 변경해주기"
   ]
  },
  {
   "cell_type": "code",
   "execution_count": 3,
   "metadata": {},
   "outputs": [
    {
     "name": "stdout",
     "output_type": "stream",
     "text": [
      "Dataset already exists.\n"
     ]
    },
    {
     "name": "stderr",
     "output_type": "stream",
     "text": [
      "100%|██████████| 1/1 [00:00<?, ?it/s]\n"
     ]
    }
   ],
   "source": [
    "from google.cloud import bigquery\n",
    "from google.cloud.exceptions import NotFound\n",
    "\n",
    "# BigQuery 클라이언트 생성\n",
    "client = bigquery.Client()\n",
    "project_id = client.project #'actual-project-415811'\n",
    "\n",
    "### 여기 설정 ###\n",
    "dataset_name = 'stockdata' # 여기 부분 원하는 데이터셋으로 설정\n",
    "### 여기 설정 끝 ###\n",
    "\n",
    "# 데이터 세트 ID 설정. 이 ID는 '[YOUR_PROJECT_ID].[DATASET_ID]' 형식이어야 합니다.\n",
    "dataset_id = \"{}.{}\".format(project_id, dataset_name)\n",
    "\n",
    "# 데이터 세트 참조 생성\n",
    "dataset_ref = bigquery.DatasetReference.from_string(dataset_id)\n",
    "\n",
    "try:\n",
    "    # 데이터 세트가 존재하는지 확인\n",
    "    client.get_dataset(dataset_ref)\n",
    "    print(\"Dataset already exists.\")\n",
    "except NotFound:\n",
    "    # 데이터 세트가 존재하지 않으면, 데이터 세트 생성\n",
    "    dataset = bigquery.Dataset(dataset_id) # 데이터 세트 설정\n",
    "    dataset.location = \"asia-northeast3\" # 데이터 세트의 지역을 설정(서울로 설정)\n",
    "    dataset = client.create_dataset(dataset)  # API request # 데이터 세트 생성\n",
    "    print(\"Created dataset {}.{}\".format(project_id, dataset.dataset_id))\n",
    "\n",
    "# client = bigquery.Client()\n",
    "# dataset = 'stockdata' \n",
    "\n",
    "### 여기 설정 ###\n",
    "table_name = 'aapl_2021-01-01to2023-12-31' # 'predict_aapl_2021-01-01to2023-12-31_to365days'\n",
    "### 여기 설정 끝 ###\n",
    "\n",
    "table_id = \"{}.{}\".format(dataset_name,table_name)\n",
    "df.to_gbq(destination_table=table_id, project_id=project_id, if_exists='replace')"
   ]
  },
  {
   "cell_type": "code",
   "execution_count": null,
   "metadata": {},
   "outputs": [],
   "source": [
    "def Load_data_in_google_bigquery(df:pd.DataFrame, table_name:str, dataset_name:str='stockdata', if_exists_option:str='replace'):\n",
    "    from google.cloud import bigquery\n",
    "    from google.cloud.exceptions import NotFound\n",
    "\n",
    "    # BigQuery 클라이언트 생성\n",
    "    client = bigquery.Client()\n",
    "    project_id = client.project #'actual-project-415811'\n",
    "\n",
    "    ### 여기 설정 ###\n",
    "    # dataset_name = 'stockdata' # 여기 부분 원하는 데이터셋으로 설정\n",
    "    # table_name = 'predict_aapl_2021-01-01to2023-12-31_to365days'\n",
    "    ### 여기 설정 끝 ###\n",
    "\n",
    "    # 데이터 세트 ID 설정. 이 ID는 '[YOUR_PROJECT_ID].[DATASET_ID]' 형식이어야 합니다.\n",
    "    dataset_id = \"{}.{}\".format(project_id, dataset_name)\n",
    "\n",
    "    # 데이터 세트 참조 생성\n",
    "    dataset_ref = bigquery.DatasetReference.from_string(dataset_id)\n",
    "\n",
    "    try:\n",
    "        # 데이터 세트가 존재하는지 확인\n",
    "        client.get_dataset(dataset_ref)\n",
    "        print(\"Dataset already exists.\")\n",
    "    except NotFound:\n",
    "        # 데이터 세트가 존재하지 않으면, 데이터 세트 생성\n",
    "        dataset = bigquery.Dataset(dataset_id) # 데이터 세트 설정\n",
    "        dataset.location = \"asia-northeast3\" # 데이터 세트의 지역을 설정(서울로 설정)\n",
    "        dataset = client.create_dataset(dataset)  # API request # 데이터 세트 생성\n",
    "        print(\"Created dataset {}.{}\".format(project_id, dataset.dataset_id))\n",
    "\n",
    "    # client = bigquery.Client()\n",
    "    # dataset = 'stockdata' \n",
    "\n",
    "    table_id = \"{}.{}\".format(dataset_name,table_name)\n",
    "    df.to_gbq(destination_table=table_id, project_id=project_id, if_exists=if_exists_option)"
   ]
  },
  {
   "cell_type": "code",
   "execution_count": null,
   "metadata": {},
   "outputs": [],
   "source": [
    "# table_name = 'predict_aapl_2021-01-01to2023-12-31_to365days'\n",
    "def Automatically_create_table_names(predict_status:bool=False) -> str:\n",
    "    if freq_option == 'D': # 후에 딕셔너리 만들어줄까 고민중\n",
    "        datetime = 'days'\n",
    "        \n",
    "    if predict_status == False:\n",
    "        etc='predict_' #''\n",
    "        table_name = f'{etc}{symbol}_{start}to{end}_to{str(fcast_time)}{datetime}'\n",
    "    else:\n",
    "        table_name = f'{symbol}_{start}to{end}'\n",
    "    return table_name"
   ]
  },
  {
   "cell_type": "code",
   "execution_count": null,
   "metadata": {},
   "outputs": [],
   "source": [
    "table_name = Automatically_create_table_names()\n",
    "Load_data_in_google_bigquery(df, table_name=table_name)"
   ]
  }
 ],
 "metadata": {
  "kernelspec": {
   "display_name": "Python 3",
   "language": "python",
   "name": "python3"
  },
  "language_info": {
   "codemirror_mode": {
    "name": "ipython",
    "version": 3
   },
   "file_extension": ".py",
   "mimetype": "text/x-python",
   "name": "python",
   "nbconvert_exporter": "python",
   "pygments_lexer": "ipython3",
   "version": "3.8.6"
  }
 },
 "nbformat": 4,
 "nbformat_minor": 2
}
